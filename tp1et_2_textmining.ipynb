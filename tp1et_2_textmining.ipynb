{
  "cells": [
    {
      "attachments": {},
      "cell_type": "markdown",
      "id": "5n1ayXO_Lc5C",
      "metadata": {
        "id": "5n1ayXO_Lc5C"
      },
      "source": [
        "# 1. Importer les bibliotheques et DATA"
      ]
    },
    {
      "cell_type": "code",
      "execution_count": 1,
      "id": "a177de8a",
      "metadata": {
        "id": "a177de8a"
      },
      "outputs": [],
      "source": [
        "import numpy as np\n",
        "import pandas as pd\n",
        "import matplotlib.pyplot as plt\n",
        "import seaborn as sns\n",
        "\n",
        "%matplotlib inline"
      ]
    },
    {
      "cell_type": "code",
      "execution_count": 4,
      "id": "8d1c0dc4",
      "metadata": {
        "colab": {
          "base_uri": "https://localhost:8080/",
          "height": 617
        },
        "id": "8d1c0dc4",
        "outputId": "f7325589-6a0b-490a-f832-207807091684"
      },
      "outputs": [
        {
          "data": {
            "text/html": [
              "\n",
              "  <div id=\"df-d6e3e285-0ab4-4fa5-9ee4-c34c32ed78f9\">\n",
              "    <div class=\"colab-df-container\">\n",
              "      <div>\n",
              "<style scoped>\n",
              "    .dataframe tbody tr th:only-of-type {\n",
              "        vertical-align: middle;\n",
              "    }\n",
              "\n",
              "    .dataframe tbody tr th {\n",
              "        vertical-align: top;\n",
              "    }\n",
              "\n",
              "    .dataframe thead th {\n",
              "        text-align: right;\n",
              "    }\n",
              "</style>\n",
              "<table border=\"1\" class=\"dataframe\">\n",
              "  <thead>\n",
              "    <tr style=\"text-align: right;\">\n",
              "      <th></th>\n",
              "      <th>CommentId</th>\n",
              "      <th>VideoId</th>\n",
              "      <th>Text</th>\n",
              "      <th>IsToxic</th>\n",
              "      <th>IsAbusive</th>\n",
              "      <th>IsThreat</th>\n",
              "      <th>IsProvocative</th>\n",
              "      <th>IsObscene</th>\n",
              "      <th>IsHatespeech</th>\n",
              "      <th>IsRacist</th>\n",
              "      <th>IsNationalist</th>\n",
              "      <th>IsSexist</th>\n",
              "      <th>IsHomophobic</th>\n",
              "      <th>IsReligiousHate</th>\n",
              "      <th>IsRadicalism</th>\n",
              "    </tr>\n",
              "  </thead>\n",
              "  <tbody>\n",
              "    <tr>\n",
              "      <th>0</th>\n",
              "      <td>Ugg2KwwX0V8-aXgCoAEC</td>\n",
              "      <td>04kJtp6pVXI</td>\n",
              "      <td>If only people would just take a step back and...</td>\n",
              "      <td>False</td>\n",
              "      <td>False</td>\n",
              "      <td>False</td>\n",
              "      <td>False</td>\n",
              "      <td>False</td>\n",
              "      <td>False</td>\n",
              "      <td>False</td>\n",
              "      <td>False</td>\n",
              "      <td>False</td>\n",
              "      <td>False</td>\n",
              "      <td>False</td>\n",
              "      <td>False</td>\n",
              "    </tr>\n",
              "    <tr>\n",
              "      <th>1</th>\n",
              "      <td>Ugg2s5AzSPioEXgCoAEC</td>\n",
              "      <td>04kJtp6pVXI</td>\n",
              "      <td>Law enforcement is not trained to shoot to app...</td>\n",
              "      <td>True</td>\n",
              "      <td>True</td>\n",
              "      <td>False</td>\n",
              "      <td>False</td>\n",
              "      <td>False</td>\n",
              "      <td>False</td>\n",
              "      <td>False</td>\n",
              "      <td>False</td>\n",
              "      <td>False</td>\n",
              "      <td>False</td>\n",
              "      <td>False</td>\n",
              "      <td>False</td>\n",
              "    </tr>\n",
              "    <tr>\n",
              "      <th>2</th>\n",
              "      <td>Ugg3dWTOxryFfHgCoAEC</td>\n",
              "      <td>04kJtp6pVXI</td>\n",
              "      <td>\\nDont you reckon them 'black lives matter' ba...</td>\n",
              "      <td>True</td>\n",
              "      <td>True</td>\n",
              "      <td>False</td>\n",
              "      <td>False</td>\n",
              "      <td>True</td>\n",
              "      <td>False</td>\n",
              "      <td>False</td>\n",
              "      <td>False</td>\n",
              "      <td>False</td>\n",
              "      <td>False</td>\n",
              "      <td>False</td>\n",
              "      <td>False</td>\n",
              "    </tr>\n",
              "    <tr>\n",
              "      <th>3</th>\n",
              "      <td>Ugg7Gd006w1MPngCoAEC</td>\n",
              "      <td>04kJtp6pVXI</td>\n",
              "      <td>There are a very large number of people who do...</td>\n",
              "      <td>False</td>\n",
              "      <td>False</td>\n",
              "      <td>False</td>\n",
              "      <td>False</td>\n",
              "      <td>False</td>\n",
              "      <td>False</td>\n",
              "      <td>False</td>\n",
              "      <td>False</td>\n",
              "      <td>False</td>\n",
              "      <td>False</td>\n",
              "      <td>False</td>\n",
              "      <td>False</td>\n",
              "    </tr>\n",
              "    <tr>\n",
              "      <th>4</th>\n",
              "      <td>Ugg8FfTbbNF8IngCoAEC</td>\n",
              "      <td>04kJtp6pVXI</td>\n",
              "      <td>The Arab dude is absolutely right, he should h...</td>\n",
              "      <td>False</td>\n",
              "      <td>False</td>\n",
              "      <td>False</td>\n",
              "      <td>False</td>\n",
              "      <td>False</td>\n",
              "      <td>False</td>\n",
              "      <td>False</td>\n",
              "      <td>False</td>\n",
              "      <td>False</td>\n",
              "      <td>False</td>\n",
              "      <td>False</td>\n",
              "      <td>False</td>\n",
              "    </tr>\n",
              "  </tbody>\n",
              "</table>\n",
              "</div>\n",
              "      <button class=\"colab-df-convert\" onclick=\"convertToInteractive('df-d6e3e285-0ab4-4fa5-9ee4-c34c32ed78f9')\"\n",
              "              title=\"Convert this dataframe to an interactive table.\"\n",
              "              style=\"display:none;\">\n",
              "        \n",
              "  <svg xmlns=\"http://www.w3.org/2000/svg\" height=\"24px\"viewBox=\"0 0 24 24\"\n",
              "       width=\"24px\">\n",
              "    <path d=\"M0 0h24v24H0V0z\" fill=\"none\"/>\n",
              "    <path d=\"M18.56 5.44l.94 2.06.94-2.06 2.06-.94-2.06-.94-.94-2.06-.94 2.06-2.06.94zm-11 1L8.5 8.5l.94-2.06 2.06-.94-2.06-.94L8.5 2.5l-.94 2.06-2.06.94zm10 10l.94 2.06.94-2.06 2.06-.94-2.06-.94-.94-2.06-.94 2.06-2.06.94z\"/><path d=\"M17.41 7.96l-1.37-1.37c-.4-.4-.92-.59-1.43-.59-.52 0-1.04.2-1.43.59L10.3 9.45l-7.72 7.72c-.78.78-.78 2.05 0 2.83L4 21.41c.39.39.9.59 1.41.59.51 0 1.02-.2 1.41-.59l7.78-7.78 2.81-2.81c.8-.78.8-2.07 0-2.86zM5.41 20L4 18.59l7.72-7.72 1.47 1.35L5.41 20z\"/>\n",
              "  </svg>\n",
              "      </button>\n",
              "      \n",
              "  <style>\n",
              "    .colab-df-container {\n",
              "      display:flex;\n",
              "      flex-wrap:wrap;\n",
              "      gap: 12px;\n",
              "    }\n",
              "\n",
              "    .colab-df-convert {\n",
              "      background-color: #E8F0FE;\n",
              "      border: none;\n",
              "      border-radius: 50%;\n",
              "      cursor: pointer;\n",
              "      display: none;\n",
              "      fill: #1967D2;\n",
              "      height: 32px;\n",
              "      padding: 0 0 0 0;\n",
              "      width: 32px;\n",
              "    }\n",
              "\n",
              "    .colab-df-convert:hover {\n",
              "      background-color: #E2EBFA;\n",
              "      box-shadow: 0px 1px 2px rgba(60, 64, 67, 0.3), 0px 1px 3px 1px rgba(60, 64, 67, 0.15);\n",
              "      fill: #174EA6;\n",
              "    }\n",
              "\n",
              "    [theme=dark] .colab-df-convert {\n",
              "      background-color: #3B4455;\n",
              "      fill: #D2E3FC;\n",
              "    }\n",
              "\n",
              "    [theme=dark] .colab-df-convert:hover {\n",
              "      background-color: #434B5C;\n",
              "      box-shadow: 0px 1px 3px 1px rgba(0, 0, 0, 0.15);\n",
              "      filter: drop-shadow(0px 1px 2px rgba(0, 0, 0, 0.3));\n",
              "      fill: #FFFFFF;\n",
              "    }\n",
              "  </style>\n",
              "\n",
              "      <script>\n",
              "        const buttonEl =\n",
              "          document.querySelector('#df-d6e3e285-0ab4-4fa5-9ee4-c34c32ed78f9 button.colab-df-convert');\n",
              "        buttonEl.style.display =\n",
              "          google.colab.kernel.accessAllowed ? 'block' : 'none';\n",
              "\n",
              "        async function convertToInteractive(key) {\n",
              "          const element = document.querySelector('#df-d6e3e285-0ab4-4fa5-9ee4-c34c32ed78f9');\n",
              "          const dataTable =\n",
              "            await google.colab.kernel.invokeFunction('convertToInteractive',\n",
              "                                                     [key], {});\n",
              "          if (!dataTable) return;\n",
              "\n",
              "          const docLinkHtml = 'Like what you see? Visit the ' +\n",
              "            '<a target=\"_blank\" href=https://colab.research.google.com/notebooks/data_table.ipynb>data table notebook</a>'\n",
              "            + ' to learn more about interactive tables.';\n",
              "          element.innerHTML = '';\n",
              "          dataTable['output_type'] = 'display_data';\n",
              "          await google.colab.output.renderOutput(dataTable, element);\n",
              "          const docLink = document.createElement('div');\n",
              "          docLink.innerHTML = docLinkHtml;\n",
              "          element.appendChild(docLink);\n",
              "        }\n",
              "      </script>\n",
              "    </div>\n",
              "  </div>\n",
              "  "
            ],
            "text/plain": [
              "              CommentId      VideoId  \\\n",
              "0  Ugg2KwwX0V8-aXgCoAEC  04kJtp6pVXI   \n",
              "1  Ugg2s5AzSPioEXgCoAEC  04kJtp6pVXI   \n",
              "2  Ugg3dWTOxryFfHgCoAEC  04kJtp6pVXI   \n",
              "3  Ugg7Gd006w1MPngCoAEC  04kJtp6pVXI   \n",
              "4  Ugg8FfTbbNF8IngCoAEC  04kJtp6pVXI   \n",
              "\n",
              "                                                Text  IsToxic  IsAbusive  \\\n",
              "0  If only people would just take a step back and...    False      False   \n",
              "1  Law enforcement is not trained to shoot to app...     True       True   \n",
              "2  \\nDont you reckon them 'black lives matter' ba...     True       True   \n",
              "3  There are a very large number of people who do...    False      False   \n",
              "4  The Arab dude is absolutely right, he should h...    False      False   \n",
              "\n",
              "   IsThreat  IsProvocative  IsObscene  IsHatespeech  IsRacist  IsNationalist  \\\n",
              "0     False          False      False         False     False          False   \n",
              "1     False          False      False         False     False          False   \n",
              "2     False          False       True         False     False          False   \n",
              "3     False          False      False         False     False          False   \n",
              "4     False          False      False         False     False          False   \n",
              "\n",
              "   IsSexist  IsHomophobic  IsReligiousHate  IsRadicalism  \n",
              "0     False         False            False         False  \n",
              "1     False         False            False         False  \n",
              "2     False         False            False         False  \n",
              "3     False         False            False         False  \n",
              "4     False         False            False         False  "
            ]
          },
          "execution_count": 4,
          "metadata": {},
          "output_type": "execute_result"
        }
      ],
      "source": [
        "data = pd.read_csv('youtoxic_english_1000.csv')\n",
        "data.head()"
      ]
    },
    {
      "attachments": {},
      "cell_type": "markdown",
      "id": "nAuhj4S_LqTY",
      "metadata": {
        "id": "nAuhj4S_LqTY"
      },
      "source": [
        "# 2. nettoyer Data text"
      ]
    },
    {
      "cell_type": "code",
      "execution_count": 5,
      "id": "dtd_5o4ECbZb",
      "metadata": {
        "colab": {
          "base_uri": "https://localhost:8080/"
        },
        "id": "dtd_5o4ECbZb",
        "outputId": "bc065f57-a91c-4b42-d0ae-5a2aea43f4c7"
      },
      "outputs": [
        {
          "name": "stderr",
          "output_type": "stream",
          "text": [
            "[nltk_data] Downloading package stopwords to /root/nltk_data...\n",
            "[nltk_data]   Unzipping corpora/stopwords.zip.\n"
          ]
        }
      ],
      "source": [
        "import nltk\n",
        "nltk.download('stopwords')\n",
        "from nltk.corpus import stopwords"
      ]
    },
    {
      "cell_type": "code",
      "execution_count": 6,
      "id": "pAfV8yaVChZd",
      "metadata": {
        "colab": {
          "base_uri": "https://localhost:8080/"
        },
        "id": "pAfV8yaVChZd",
        "outputId": "05069eb1-7d62-492e-8a3a-5ad0af4079df"
      },
      "outputs": [
        {
          "name": "stderr",
          "output_type": "stream",
          "text": [
            "[nltk_data] Downloading package wordnet to /root/nltk_data...\n",
            "[nltk_data] Downloading package omw-1.4 to /root/nltk_data...\n"
          ]
        },
        {
          "data": {
            "text/plain": [
              "True"
            ]
          },
          "execution_count": 6,
          "metadata": {},
          "output_type": "execute_result"
        }
      ],
      "source": [
        "import string\n",
        "lemmatize=nltk.WordNetLemmatizer()\n",
        "nltk.download('wordnet')\n",
        "nltk.download('omw-1.4')"
      ]
    },
    {
      "cell_type": "code",
      "execution_count": 7,
      "id": "670fe9dc",
      "metadata": {
        "colab": {
          "base_uri": "https://localhost:8080/"
        },
        "id": "670fe9dc",
        "outputId": "c678c407-003b-4b06-b081-d2237ff2dcca"
      },
      "outputs": [
        {
          "name": "stderr",
          "output_type": "stream",
          "text": [
            "[nltk_data] Downloading package stopwords to /root/nltk_data...\n",
            "[nltk_data]   Package stopwords is already up-to-date!\n"
          ]
        }
      ],
      "source": [
        "import nltk\n",
        "nltk.download('stopwords')\n",
        "from nltk.corpus import stopwords"
      ]
    },
    {
      "cell_type": "code",
      "execution_count": 8,
      "id": "61ae85d6",
      "metadata": {
        "colab": {
          "base_uri": "https://localhost:8080/"
        },
        "id": "61ae85d6",
        "outputId": "6b327734-96f3-4409-900a-c9144319ccff"
      },
      "outputs": [
        {
          "name": "stderr",
          "output_type": "stream",
          "text": [
            "[nltk_data] Downloading package wordnet to /root/nltk_data...\n",
            "[nltk_data]   Package wordnet is already up-to-date!\n",
            "[nltk_data] Downloading package omw-1.4 to /root/nltk_data...\n",
            "[nltk_data]   Package omw-1.4 is already up-to-date!\n"
          ]
        },
        {
          "data": {
            "text/plain": [
              "True"
            ]
          },
          "execution_count": 8,
          "metadata": {},
          "output_type": "execute_result"
        }
      ],
      "source": [
        "import string\n",
        "lemmatize=nltk.WordNetLemmatizer()\n",
        "nltk.download('wordnet')\n",
        "nltk.download('omw-1.4')"
      ]
    },
    {
      "cell_type": "code",
      "execution_count": 9,
      "id": "d30fdc48",
      "metadata": {
        "id": "d30fdc48"
      },
      "outputs": [],
      "source": [
        "newData = data"
      ]
    },
    {
      "attachments": {},
      "cell_type": "markdown",
      "id": "8qmvEZfPGmR6",
      "metadata": {
        "id": "8qmvEZfPGmR6"
      },
      "source": [
        "supprimer xa0 espace"
      ]
    },
    {
      "cell_type": "code",
      "execution_count": 10,
      "id": "84028a88",
      "metadata": {
        "id": "84028a88"
      },
      "outputs": [],
      "source": [
        "newData['Text'] = newData['Text'].replace(u'\\xa0', u' ')"
      ]
    },
    {
      "attachments": {},
      "cell_type": "markdown",
      "id": "pR4dOFLPGzKR",
      "metadata": {
        "id": "pR4dOFLPGzKR"
      },
      "source": [
        "fonction qui supprime les ponctuations , stop words et la lemmatisation sur le texte puis on returne une liste du texte apres nettoyage"
      ]
    },
    {
      "cell_type": "code",
      "execution_count": 11,
      "id": "735505a5",
      "metadata": {
        "id": "735505a5"
      },
      "outputs": [],
      "source": [
        "def text_nettoyage(mess):\n",
        "    \"\"\"\n",
        "    Takes in a string of text, then performs the following:\n",
        "    1. Remove all punctuation\n",
        "    2. Remove all stopwords\n",
        "    3. Lemmatize the words\n",
        "    4. Returns a list of the cleaned text\n",
        "    \"\"\"\n",
        "    # Check characters to see if they are in punctuation\n",
        "    nopunc = [char for char in mess if char not in string.punctuation]\n",
        "\n",
        "    # Join the characters again to form the string.\n",
        "    nopunc = ''.join(nopunc)\n",
        "    # Lemmatize the words\n",
        "    nopunc = [lemmatize.lemmatize(word) for word in nopunc.split()]\n",
        "    # Join the characters again to form the string.\n",
        "    nopunc = ' '.join(nopunc)\n",
        "    \n",
        "    # Now just remove any stopwords\n",
        "    return [word.lower() for word in nopunc.split() if word.lower() not in stopwords.words('english')]"
      ]
    },
    {
      "attachments": {},
      "cell_type": "markdown",
      "id": "e-ZzjrkXH2FU",
      "metadata": {
        "id": "e-ZzjrkXH2FU"
      },
      "source": [
        "on applique la fonction \"text_nettoyage\" sur notre data"
      ]
    },
    {
      "cell_type": "code",
      "execution_count": null,
      "id": "a10dccfc",
      "metadata": {
        "id": "a10dccfc",
        "outputId": "7e41c167-98b0-4fef-ce19-ae74e5bfd53c"
      },
      "outputs": [
        {
          "data": {
            "text/plain": [
              "0    [people, would, take, step, back, make, case, ...\n",
              "1    [law, enforcement, trained, shoot, apprehend, ...\n",
              "2    [dont, reckon, black, life, matter, banner, he...\n",
              "3    [large, number, people, like, police, officer,...\n",
              "4    [arab, dude, absolutely, right, shot, 6, extra...\n",
              "Name: Text, dtype: object"
            ]
          },
          "execution_count": 12,
          "metadata": {},
          "output_type": "execute_result"
        }
      ],
      "source": [
        "newData['Text'].head(5).apply(text_nettoyage)"
      ]
    },
    {
      "attachments": {},
      "cell_type": "markdown",
      "id": "uC1pJmCeIO1X",
      "metadata": {
        "id": "uC1pJmCeIO1X"
      },
      "source": [
        "Vérifier si les étiquettes sont équilibrées"
      ]
    },
    {
      "cell_type": "code",
      "execution_count": 12,
      "id": "7338a61e",
      "metadata": {
        "colab": {
          "base_uri": "https://localhost:8080/",
          "height": 466
        },
        "id": "7338a61e",
        "outputId": "29252f69-a4a5-4fcc-d12a-973f1b63349c"
      },
      "outputs": [
        {
          "data": {
            "text/plain": [
              "<Axes: xlabel='IsToxic', ylabel='count'>"
            ]
          },
          "execution_count": 12,
          "metadata": {},
          "output_type": "execute_result"
        },
        {
          "data": {
            "image/png": "[encoded data removed]",
            "text/plain": [
              "<Figure size 640x480 with 1 Axes>"
            ]
          },
          "metadata": {},
          "output_type": "display_data"
        }
      ],
      "source": [
        "sns.countplot(data=data,x=\"IsToxic\")"
      ]
    },
    {
      "attachments": {},
      "cell_type": "markdown",
      "id": "VrbKHPgvJSa2",
      "metadata": {
        "id": "VrbKHPgvJSa2"
      },
      "source": [
        "#  3-Vectorizing the data"
      ]
    },
    {
      "cell_type": "code",
      "execution_count": 13,
      "id": "dfb0f5ad",
      "metadata": {
        "id": "dfb0f5ad"
      },
      "outputs": [],
      "source": [
        "new_Data = []\n",
        "df = pd.DataFrame(new_Data)"
      ]
    },
    {
      "cell_type": "code",
      "execution_count": 16,
      "id": "eaa1a080",
      "metadata": {
        "id": "eaa1a080"
      },
      "outputs": [],
      "source": [
        "df['CommentId'] = newData['CommentId']\n",
        "df['VideoId'] = newData['VideoId']\n",
        "df['Text'] = newData['Text']\n",
        "df['IsToxic'] = newData['IsToxic']\n"
      ]
    },
    {
      "cell_type": "code",
      "execution_count": 17,
      "id": "32cc4b62",
      "metadata": {
        "colab": {
          "base_uri": "https://localhost:8080/",
          "height": 206
        },
        "id": "32cc4b62",
        "outputId": "46c1bea1-4b40-4668-cb2d-21da94ead9f4"
      },
      "outputs": [
        {
          "data": {
            "text/html": [
              "\n",
              "  <div id=\"df-3d6e6791-4d1c-4594-9ff8-bf86c542a253\">\n",
              "    <div class=\"colab-df-container\">\n",
              "      <div>\n",
              "<style scoped>\n",
              "    .dataframe tbody tr th:only-of-type {\n",
              "        vertical-align: middle;\n",
              "    }\n",
              "\n",
              "    .dataframe tbody tr th {\n",
              "        vertical-align: top;\n",
              "    }\n",
              "\n",
              "    .dataframe thead th {\n",
              "        text-align: right;\n",
              "    }\n",
              "</style>\n",
              "<table border=\"1\" class=\"dataframe\">\n",
              "  <thead>\n",
              "    <tr style=\"text-align: right;\">\n",
              "      <th></th>\n",
              "      <th>CommentId</th>\n",
              "      <th>VideoId</th>\n",
              "      <th>Text</th>\n",
              "      <th>IsToxic</th>\n",
              "    </tr>\n",
              "  </thead>\n",
              "  <tbody>\n",
              "    <tr>\n",
              "      <th>0</th>\n",
              "      <td>Ugg2KwwX0V8-aXgCoAEC</td>\n",
              "      <td>04kJtp6pVXI</td>\n",
              "      <td>If only people would just take a step back and...</td>\n",
              "      <td>False</td>\n",
              "    </tr>\n",
              "    <tr>\n",
              "      <th>1</th>\n",
              "      <td>Ugg2s5AzSPioEXgCoAEC</td>\n",
              "      <td>04kJtp6pVXI</td>\n",
              "      <td>Law enforcement is not trained to shoot to app...</td>\n",
              "      <td>True</td>\n",
              "    </tr>\n",
              "    <tr>\n",
              "      <th>2</th>\n",
              "      <td>Ugg3dWTOxryFfHgCoAEC</td>\n",
              "      <td>04kJtp6pVXI</td>\n",
              "      <td>\\nDont you reckon them 'black lives matter' ba...</td>\n",
              "      <td>True</td>\n",
              "    </tr>\n",
              "    <tr>\n",
              "      <th>3</th>\n",
              "      <td>Ugg7Gd006w1MPngCoAEC</td>\n",
              "      <td>04kJtp6pVXI</td>\n",
              "      <td>There are a very large number of people who do...</td>\n",
              "      <td>False</td>\n",
              "    </tr>\n",
              "    <tr>\n",
              "      <th>4</th>\n",
              "      <td>Ugg8FfTbbNF8IngCoAEC</td>\n",
              "      <td>04kJtp6pVXI</td>\n",
              "      <td>The Arab dude is absolutely right, he should h...</td>\n",
              "      <td>False</td>\n",
              "    </tr>\n",
              "  </tbody>\n",
              "</table>\n",
              "</div>\n",
              "      <button class=\"colab-df-convert\" onclick=\"convertToInteractive('df-3d6e6791-4d1c-4594-9ff8-bf86c542a253')\"\n",
              "              title=\"Convert this dataframe to an interactive table.\"\n",
              "              style=\"display:none;\">\n",
              "        \n",
              "  <svg xmlns=\"http://www.w3.org/2000/svg\" height=\"24px\"viewBox=\"0 0 24 24\"\n",
              "       width=\"24px\">\n",
              "    <path d=\"M0 0h24v24H0V0z\" fill=\"none\"/>\n",
              "    <path d=\"M18.56 5.44l.94 2.06.94-2.06 2.06-.94-2.06-.94-.94-2.06-.94 2.06-2.06.94zm-11 1L8.5 8.5l.94-2.06 2.06-.94-2.06-.94L8.5 2.5l-.94 2.06-2.06.94zm10 10l.94 2.06.94-2.06 2.06-.94-2.06-.94-.94-2.06-.94 2.06-2.06.94z\"/><path d=\"M17.41 7.96l-1.37-1.37c-.4-.4-.92-.59-1.43-.59-.52 0-1.04.2-1.43.59L10.3 9.45l-7.72 7.72c-.78.78-.78 2.05 0 2.83L4 21.41c.39.39.9.59 1.41.59.51 0 1.02-.2 1.41-.59l7.78-7.78 2.81-2.81c.8-.78.8-2.07 0-2.86zM5.41 20L4 18.59l7.72-7.72 1.47 1.35L5.41 20z\"/>\n",
              "  </svg>\n",
              "      </button>\n",
              "      \n",
              "  <style>\n",
              "    .colab-df-container {\n",
              "      display:flex;\n",
              "      flex-wrap:wrap;\n",
              "      gap: 12px;\n",
              "    }\n",
              "\n",
              "    .colab-df-convert {\n",
              "      background-color: #E8F0FE;\n",
              "      border: none;\n",
              "      border-radius: 50%;\n",
              "      cursor: pointer;\n",
              "      display: none;\n",
              "      fill: #1967D2;\n",
              "      height: 32px;\n",
              "      padding: 0 0 0 0;\n",
              "      width: 32px;\n",
              "    }\n",
              "\n",
              "    .colab-df-convert:hover {\n",
              "      background-color: #E2EBFA;\n",
              "      box-shadow: 0px 1px 2px rgba(60, 64, 67, 0.3), 0px 1px 3px 1px rgba(60, 64, 67, 0.15);\n",
              "      fill: #174EA6;\n",
              "    }\n",
              "\n",
              "    [theme=dark] .colab-df-convert {\n",
              "      background-color: #3B4455;\n",
              "      fill: #D2E3FC;\n",
              "    }\n",
              "\n",
              "    [theme=dark] .colab-df-convert:hover {\n",
              "      background-color: #434B5C;\n",
              "      box-shadow: 0px 1px 3px 1px rgba(0, 0, 0, 0.15);\n",
              "      filter: drop-shadow(0px 1px 2px rgba(0, 0, 0, 0.3));\n",
              "      fill: #FFFFFF;\n",
              "    }\n",
              "  </style>\n",
              "\n",
              "      <script>\n",
              "        const buttonEl =\n",
              "          document.querySelector('#df-3d6e6791-4d1c-4594-9ff8-bf86c542a253 button.colab-df-convert');\n",
              "        buttonEl.style.display =\n",
              "          google.colab.kernel.accessAllowed ? 'block' : 'none';\n",
              "\n",
              "        async function convertToInteractive(key) {\n",
              "          const element = document.querySelector('#df-3d6e6791-4d1c-4594-9ff8-bf86c542a253');\n",
              "          const dataTable =\n",
              "            await google.colab.kernel.invokeFunction('convertToInteractive',\n",
              "                                                     [key], {});\n",
              "          if (!dataTable) return;\n",
              "\n",
              "          const docLinkHtml = 'Like what you see? Visit the ' +\n",
              "            '<a target=\"_blank\" href=https://colab.research.google.com/notebooks/data_table.ipynb>data table notebook</a>'\n",
              "            + ' to learn more about interactive tables.';\n",
              "          element.innerHTML = '';\n",
              "          dataTable['output_type'] = 'display_data';\n",
              "          await google.colab.output.renderOutput(dataTable, element);\n",
              "          const docLink = document.createElement('div');\n",
              "          docLink.innerHTML = docLinkHtml;\n",
              "          element.appendChild(docLink);\n",
              "        }\n",
              "      </script>\n",
              "    </div>\n",
              "  </div>\n",
              "  "
            ],
            "text/plain": [
              "              CommentId      VideoId  \\\n",
              "0  Ugg2KwwX0V8-aXgCoAEC  04kJtp6pVXI   \n",
              "1  Ugg2s5AzSPioEXgCoAEC  04kJtp6pVXI   \n",
              "2  Ugg3dWTOxryFfHgCoAEC  04kJtp6pVXI   \n",
              "3  Ugg7Gd006w1MPngCoAEC  04kJtp6pVXI   \n",
              "4  Ugg8FfTbbNF8IngCoAEC  04kJtp6pVXI   \n",
              "\n",
              "                                                Text  IsToxic  \n",
              "0  If only people would just take a step back and...    False  \n",
              "1  Law enforcement is not trained to shoot to app...     True  \n",
              "2  \\nDont you reckon them 'black lives matter' ba...     True  \n",
              "3  There are a very large number of people who do...    False  \n",
              "4  The Arab dude is absolutely right, he should h...    False  "
            ]
          },
          "execution_count": 17,
          "metadata": {},
          "output_type": "execute_result"
        }
      ],
      "source": [
        "df.head()"
      ]
    },
    {
      "cell_type": "code",
      "execution_count": 18,
      "id": "74ce64b7",
      "metadata": {
        "id": "74ce64b7"
      },
      "outputs": [],
      "source": [
        "from sklearn.feature_extraction.text import CountVectorizer"
      ]
    },
    {
      "attachments": {},
      "cell_type": "markdown",
      "id": "l7BrhCn6J95E",
      "metadata": {
        "id": "l7BrhCn6J95E"
      },
      "source": [
        "construire un modèle de sac de mots à partir des données textuelles"
      ]
    },
    {
      "cell_type": "code",
      "execution_count": 19,
      "id": "b1880665",
      "metadata": {
        "colab": {
          "base_uri": "https://localhost:8080/"
        },
        "id": "b1880665",
        "outputId": "7f01e15c-9177-4792-8664-664101e73f28"
      },
      "outputs": [
        {
          "name": "stdout",
          "output_type": "stream",
          "text": [
            "4386\n"
          ]
        }
      ],
      "source": [
        "bow_transformer = CountVectorizer(analyzer=text_nottoyage).fit(df['Text'])\n",
        "\n",
        "# Print total number of vocab words\n",
        "print(len(bow_transformer.vocabulary_))"
      ]
    },
    {
      "cell_type": "code",
      "execution_count": 24,
      "id": "EuI_iNFoFkaa",
      "metadata": {
        "colab": {
          "base_uri": "https://localhost:8080/"
        },
        "id": "EuI_iNFoFkaa",
        "outputId": "6a8769cc-6986-41a6-d9dd-a957d99b72c4"
      },
      "outputs": [
        {
          "name": "stdout",
          "output_type": "stream",
          "text": [
            "There are a very large number of people who do not like police officers. They are called Criminals and its the reason we have police officers. The fact that Criminals do not like police officers is a testament to the good work that police officers do in protecting the public. When our children or our family are in danger, we do not hessitate to call for help, and we call the Police. Its about time people stopped complaining and started to give the Police some respect for the hard work and dedication that often requires them to put their lives on the line, to serve the public.\n"
          ]
        }
      ],
      "source": [
        "message = df['Text'][3]\n",
        "print(message)"
      ]
    },
    {
      "attachments": {},
      "cell_type": "markdown",
      "id": "39OxEBRJKhhq",
      "metadata": {
        "id": "39OxEBRJKhhq"
      },
      "source": [
        "application du model sur \"message\"\n"
      ]
    },
    {
      "cell_type": "code",
      "execution_count": 25,
      "id": "LEFPZ2a4FDst",
      "metadata": {
        "colab": {
          "base_uri": "https://localhost:8080/"
        },
        "id": "LEFPZ2a4FDst",
        "outputId": "4a05ff11-694c-4ffa-bdea-89c0be178b4e"
      },
      "outputs": [
        {
          "name": "stdout",
          "output_type": "stream",
          "text": [
            "  (0, 641)\t2\n",
            "  (0, 642)\t1\n",
            "  (0, 713)\t1\n",
            "  (0, 820)\t1\n",
            "  (0, 961)\t2\n",
            "  (0, 1001)\t1\n",
            "  (0, 1039)\t1\n",
            "  (0, 1430)\t1\n",
            "  (0, 1450)\t1\n",
            "  (0, 1674)\t1\n",
            "  (0, 1694)\t1\n",
            "  (0, 1781)\t1\n",
            "  (0, 1816)\t1\n",
            "  (0, 1829)\t1\n",
            "  (0, 2216)\t1\n",
            "  (0, 2277)\t1\n",
            "  (0, 2283)\t2\n",
            "  (0, 2290)\t1\n",
            "  (0, 2681)\t1\n",
            "  (0, 2707)\t4\n",
            "  (0, 2710)\t1\n",
            "  (0, 2830)\t2\n",
            "  (0, 2902)\t6\n",
            "  (0, 3027)\t1\n",
            "  (0, 3053)\t2\n",
            "  (0, 3081)\t1\n",
            "  (0, 3165)\t1\n",
            "  (0, 3246)\t1\n",
            "  (0, 3256)\t1\n",
            "  (0, 3443)\t1\n",
            "  (0, 3664)\t1\n",
            "  (0, 3711)\t1\n",
            "  (0, 3861)\t1\n",
            "  (0, 3936)\t1\n",
            "  (0, 4291)\t2\n",
            "(1, 4386)\n"
          ]
        }
      ],
      "source": [
        "bow4 = bow_transformer.transform([message])\n",
        "print(bow4)\n",
        "print(bow4.shape)"
      ]
    },
    {
      "cell_type": "code",
      "execution_count": 20,
      "id": "4348c800",
      "metadata": {
        "id": "4348c800"
      },
      "outputs": [],
      "source": [
        "text_bow = bow_transformer.transform(df['Text'])"
      ]
    },
    {
      "cell_type": "code",
      "execution_count": 21,
      "id": "12423d8e",
      "metadata": {
        "colab": {
          "base_uri": "https://localhost:8080/"
        },
        "id": "12423d8e",
        "outputId": "e4ada0a5-d566-4470-c644-bf045f3435cd"
      },
      "outputs": [
        {
          "name": "stdout",
          "output_type": "stream",
          "text": [
            "Shape of Sparse Matrix:  (1000, 4386)\n",
            "Amount of Non-Zero occurences:  15856\n"
          ]
        }
      ],
      "source": [
        "print('Shape of Sparse Matrix: ', text_bow.shape)\n",
        "print('Amount of Non-Zero occurences: ', text_bow.nnz)"
      ]
    },
    {
      "attachments": {},
      "cell_type": "markdown",
      "id": "hsg4Q95vL8Qy",
      "metadata": {
        "id": "hsg4Q95vL8Qy"
      },
      "source": [
        "Nous allons maintenant utiliser TF-IDF pour donner du poids à chaque mot dans les commentaires\n",
        "\n",
        "TF(t) = (Nombre de fois que le terme t apparaît dans un document) / (Nombre total de termes dans le document).\n",
        "\n",
        "IDF(t) = log_e(Nombre total de documents / Nombre de documents contenant le terme t)."
      ]
    },
    {
      "cell_type": "code",
      "execution_count": 26,
      "id": "abf6f8c1",
      "metadata": {
        "colab": {
          "base_uri": "https://localhost:8080/"
        },
        "id": "abf6f8c1",
        "outputId": "8080a2c3-0173-476f-d71d-ea792b7b1c81"
      },
      "outputs": [
        {
          "name": "stdout",
          "output_type": "stream",
          "text": [
            "  (0, 4291)\t0.2120470967470687\n",
            "  (0, 3936)\t0.08369391736037236\n",
            "  (0, 3861)\t0.1617147922778925\n",
            "  (0, 3711)\t0.12564438321929247\n",
            "  (0, 3664)\t0.11976432641897239\n",
            "  (0, 3443)\t0.13363811260110242\n",
            "  (0, 3256)\t0.11511075341292093\n",
            "  (0, 3246)\t0.15262758723850595\n",
            "  (0, 3165)\t0.10901622794005865\n",
            "  (0, 3081)\t0.10338381791641837\n",
            "  (0, 3053)\t0.23620686595889043\n",
            "  (0, 3027)\t0.1411790628409497\n",
            "  (0, 2902)\t0.41530956114947426\n",
            "  (0, 2830)\t0.12173186855109545\n",
            "  (0, 2710)\t0.14618011265623532\n",
            "  (0, 2707)\t0.32686048257534106\n",
            "  (0, 2681)\t0.12564438321929247\n",
            "  (0, 2290)\t0.13064543303457812\n",
            "  (0, 2283)\t0.14104111419376966\n",
            "  (0, 2277)\t0.08869496717565799\n",
            "  (0, 2216)\t0.14618011265623532\n",
            "  (0, 1829)\t0.1617147922778925\n",
            "  (0, 1816)\t0.12564438321929247\n",
            "  (0, 1781)\t0.11810343297944521\n",
            "  (0, 1694)\t0.0924389507876739\n",
            "  (0, 1674)\t0.11247102295580497\n",
            "  (0, 1450)\t0.11375204619529704\n",
            "  (0, 1430)\t0.09348154831840144\n",
            "  (0, 1039)\t0.1617147922778925\n",
            "  (0, 1001)\t0.15262758723850595\n",
            "  (0, 961)\t0.3052551744770119\n",
            "  (0, 820)\t0.1617147922778925\n",
            "  (0, 713)\t0.12155822799519155\n",
            "  (0, 642)\t0.12564438321929247\n",
            "  (0, 641)\t0.2084592935946304\n"
          ]
        }
      ],
      "source": [
        "from sklearn.feature_extraction.text import TfidfTransformer\n",
        "\n",
        "tfidf_transformer = TfidfTransformer().fit(text_bow)\n",
        "tfidf4 = tfidf_transformer.transform(bow4)\n",
        "print(tfidf4)"
      ]
    },
    {
      "cell_type": "code",
      "execution_count": 27,
      "id": "63a8a27a",
      "metadata": {
        "colab": {
          "base_uri": "https://localhost:8080/"
        },
        "id": "63a8a27a",
        "outputId": "fa7d16c3-c146-4471-ea9f-8e26dded1253"
      },
      "outputs": [
        {
          "name": "stdout",
          "output_type": "stream",
          "text": [
            "(1000, 4386)\n"
          ]
        }
      ],
      "source": [
        "text_tfidf = tfidf_transformer.transform(text_bow)\n",
        "print(text_tfidf.shape)"
      ]
    },
    {
      "attachments": {},
      "cell_type": "markdown",
      "id": "383J-fBaLPeE",
      "metadata": {
        "id": "383J-fBaLPeE"
      },
      "source": [
        "# 4. Training the model"
      ]
    },
    {
      "cell_type": "code",
      "execution_count": 28,
      "id": "796c9221",
      "metadata": {
        "colab": {
          "base_uri": "https://localhost:8080/"
        },
        "id": "796c9221",
        "outputId": "24285698-bc9e-4948-9f62-aa3bed2d5c4a"
      },
      "outputs": [
        {
          "name": "stdout",
          "output_type": "stream",
          "text": [
            "800 200 1000\n"
          ]
        }
      ],
      "source": [
        "from sklearn.model_selection import train_test_split\n",
        "\n",
        "text_train, text_test, toxic_train, toxic_test = \\\n",
        "train_test_split(df['Text'], df['IsToxic'], test_size=0.2)\n",
        "\n",
        "print(len(text_train), len(text_test), len(text_train) + len(text_test))"
      ]
    },
    {
      "attachments": {},
      "cell_type": "markdown",
      "id": "gUZSUd5zNRKv",
      "metadata": {
        "id": "gUZSUd5zNRKv"
      },
      "source": [
        "on utilise la methode du clustring \"**k-means**\""
      ]
    },
    {
      "cell_type": "code",
      "execution_count": 29,
      "id": "7aafb118",
      "metadata": {
        "colab": {
          "base_uri": "https://localhost:8080/"
        },
        "id": "7aafb118",
        "outputId": "eb34ae3c-00f5-4949-df34-43ee32a19f15",
        "scrolled": true
      },
      "outputs": [
        {
          "name": "stderr",
          "output_type": "stream",
          "text": [
            "/usr/local/lib/python3.10/dist-packages/sklearn/cluster/_kmeans.py:870: FutureWarning: The default value of `n_init` will change from 10 to 'auto' in 1.4. Set the value of `n_init` explicitly to suppress the warning\n",
            "  warnings.warn(\n"
          ]
        },
        {
          "name": "stdout",
          "output_type": "stream",
          "text": [
            "              precision    recall  f1-score   support\n",
            "\n",
            "           0       0.84      0.54      0.66       160\n",
            "           1       0.24      0.60      0.35        40\n",
            "\n",
            "    accuracy                           0.55       200\n",
            "   macro avg       0.54      0.57      0.50       200\n",
            "weighted avg       0.72      0.55      0.59       200\n",
            "\n"
          ]
        }
      ],
      "source": [
        "from sklearn.pipeline import Pipeline\n",
        "from sklearn.feature_extraction.text import TfidfVectorizer\n",
        "from sklearn.cluster import KMeans\n",
        "from sklearn.metrics import classification_report\n",
        "\n",
        "pipeline = Pipeline([\n",
        "    ('bow', TfidfVectorizer(analyzer=text_process)),  # strings to weighted TF-IDF scores\n",
        "    ('clustering', KMeans(n_clusters=2)),  # cluster TF-IDF vectors using K-means\n",
        "])\n",
        "\n",
        "# Entraînement du pipeline\n",
        "pipeline.fit(text_train,toxic_train)\n",
        "\n",
        "# Prédiction sur les données de test\n",
        "predictions = pipeline.predict(text_test)\n",
        "\n",
        "# Évaluation du clustering\n",
        "print(classification_report(predictions,toxic_test))"
      ]
    },
    {
      "attachments": {},
      "cell_type": "markdown",
      "id": "9f397a7b",
      "metadata": {},
      "source": [
        "En se basant sur les résultats fournis, le modèle semble avoir une précision élevée pour la classe 0 (0.84) mais une faible précision pour la classe 1 (0.24). Le rappel est plus élevé pour la classe 1 (0.60) que pour la classe 0 (0.54). Le score F1 est également plus élevé pour la classe 1 (0.35) que pour la classe 0 (0.66). L'exactitude globale du modèle est de 0.55."
      ]
    }
  ],
  "metadata": {
    "colab": {
      "provenance": [],
      "toc_visible": true
    },
    "kernelspec": {
      "display_name": "Python 3 (ipykernel)",
      "language": "python",
      "name": "python3"
    },
    "language_info": {
      "codemirror_mode": {
        "name": "ipython",
        "version": 3
      },
      "file_extension": ".py",
      "mimetype": "text/x-python",
      "name": "python",
      "nbconvert_exporter": "python",
      "pygments_lexer": "ipython3",
      "version": "3.10.8"
    }
  },
  "nbformat": 4,
  "nbformat_minor": 5
}
